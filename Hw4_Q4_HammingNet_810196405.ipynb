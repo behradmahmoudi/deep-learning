{
    "cells": [
        {
            "cell_type": "markdown",
            "source": [
                "                                                     ** Hw4-MohammadReza Arani- Q4 **"
            ],
            "metadata": {}
        },
        {
            "cell_type": "code",
            "execution_count": 1,
            "source": [
                "# First Import Libraries:\r\n",
                "import numpy as np\r\n",
                "\r\n",
                "\r\n",
                "\r\n",
                "\r\n",
                "\r\n",
                "\r\n"
            ],
            "outputs": [],
            "metadata": {}
        }
    ],
    "metadata": {
        "orig_nbformat": 4,
        "language_info": {
            "name": "python"
        }
    },
    "nbformat": 4,
    "nbformat_minor": 2
}