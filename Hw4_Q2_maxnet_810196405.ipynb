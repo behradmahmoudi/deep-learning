{
    "cells": [
        {
            "cell_type": "markdown",
            "source": [
                "                                                        ** Hw4-MohammadReza Arani-Q2 **\r\n"
            ],
            "metadata": {}
        },
        {
            "cell_type": "code",
            "execution_count": 61,
            "source": [
                "import numpy as np\r\n",
                "import matplotlib.pyplot as plt\r\n",
                "# we want to implement MAXnet:\r\n",
                "\r\n",
                "def activation_func(X):\r\n",
                "    a=X\r\n",
                "    if X < 0:\r\n",
                "        a=0\r\n",
                "    return a\r\n",
                "\r\n",
                "\r\n",
                "def MAXNET_1(X,eps,verbose):\r\n",
                "    Final=0\r\n",
                "    # first initialize weight matrix:\r\n",
                "    W=np.ones((X.shape[0],X.shape[0]), int)\r\n",
                "    W=-W*eps\r\n",
                "    np.fill_diagonal(W, 1)\r\n",
                "    # Then we need to use a temp variable such as : a in first epoch\r\n",
                "    epch=1\r\n",
                "    a=np.copy(X)\r\n",
                "    while(1):\r\n",
                "        if(np.sum(a==0) >= len(a)-1):\r\n",
                "                    break\r\n",
                "        Vector_activation_func=np.vectorize(activation_func)\r\n",
                "        a=Vector_activation_func(W.dot(a.T))\r\n",
                "        a_new=np.around(a, 3)\r\n",
                "\r\n",
                "        if(verbose==1):\r\n",
                "            print('Epoch: '+str(epch)+' : New a = : \\n',a_new)\r\n",
                "        epch=epch+1\r\n",
                "\r\n",
                "    print('Final Epoch : '+str(epch)+' : Final a = :\\n ',a_new)            \r\n",
                "    Final = (X[a != 0 ])\r\n",
                "\r\n",
                "    return Final    \r\n",
                "\r\n",
                "\r\n",
                "\r\n",
                "\r\n",
                "\r\n",
                "\r\n",
                "\r\n"
            ],
            "outputs": [],
            "metadata": {}
        },
        {
            "cell_type": "code",
            "execution_count": 42,
            "source": [
                "# First Given Input Vector:\r\n",
                "X=np.asarray([1.2, 1.1 , 0.5 , 1.5 , 1.13 , 0.8])\r\n",
                "eps=0.13\r\n",
                "Final = MAXNET_1(X=X,eps=eps,verbose=1)\r\n",
                "print(\"The maximum value in this array is: \", Final)"
            ],
            "outputs": [
                {
                    "output_type": "stream",
                    "name": "stdout",
                    "text": [
                        "Epoch: 1 : New a = : \n",
                        " [0.5 0.4 0.  0.9 0.5 0.1]\n",
                        "Epoch: 2 : New a = : \n",
                        " [0.3 0.1 0.  0.7 0.3 0. ]\n",
                        "Epoch: 3 : New a = : \n",
                        " [0.2 0.  0.  0.6 0.2 0. ]\n",
                        "Epoch: 4 : New a = : \n",
                        " [0.1 0.  0.  0.5 0.1 0. ]\n",
                        "Final Epoch : 5 : Final a = :\n",
                        "  [0.  0.  0.  0.5 0.  0. ]\n",
                        "The maximum value in this array is:  [1.5]\n"
                    ]
                }
            ],
            "metadata": {}
        },
        {
            "cell_type": "code",
            "execution_count": 45,
            "source": [
                "#  We can Consider multiple Conditions and use the same function we ever used above:\r\n",
                "X=np.asarray([1.3, 1.1 , 0.5 , -1.5 , 1.13 , -0.8])\r\n",
                "X1=X\r\n",
                "print(\"Using MAXNET for X : \")\r\n",
                "eps=0.13\r\n",
                "Final1 = MAXNET_1(X=X1,eps=eps,verbose=1)\r\n",
                "print(\"The maximum value in this array is: \\n \\n \\n\", Final1)\r\n",
                "\r\n"
            ],
            "outputs": [
                {
                    "output_type": "stream",
                    "name": "stdout",
                    "text": [
                        "Using MAXNET for X : \n",
                        "Epoch: 1 : New a = : \n",
                        " [1.2 1.  0.3 0.  1.1 0. ]\n",
                        "Epoch: 2 : New a = : \n",
                        " [0.9 0.7 0.  0.  0.8 0. ]\n",
                        "Epoch: 3 : New a = : \n",
                        " [0.7 0.5 0.  0.  0.6 0. ]\n",
                        "Epoch: 4 : New a = : \n",
                        " [0.6 0.3 0.  0.  0.4 0. ]\n",
                        "Epoch: 5 : New a = : \n",
                        " [0.5 0.2 0.  0.  0.3 0. ]\n",
                        "Epoch: 6 : New a = : \n",
                        " [0.4 0.1 0.  0.  0.2 0. ]\n",
                        "Epoch: 7 : New a = : \n",
                        " [0.4 0.  0.  0.  0.1 0. ]\n",
                        "Final Epoch : 8 : Final a = :\n",
                        "  [0.4 0.  0.  0.  0.  0. ]\n",
                        "The maximum value in this array is: \n",
                        " \n",
                        " \n",
                        " [1.3]\n"
                    ]
                }
            ],
            "metadata": {}
        },
        {
            "cell_type": "code",
            "execution_count": 62,
            "source": [
                "X=np.asarray([1.2, 1.1 , 0.5 , -1.5 , 1.13 , -0.8])\r\n",
                "X1=-X\r\n",
                "print(\"Using MAXNET for -X : \")\r\n",
                "eps=0.13\r\n",
                "Final2 = MAXNET_1(X=X1,eps=eps,verbose=1)\r\n",
                "print(\"The maximum value in this array is: \\n \\n\", Final2)"
            ],
            "outputs": [
                {
                    "output_type": "stream",
                    "name": "stdout",
                    "text": [
                        "Using MAXNET for -X : \n",
                        "Epoch: 1 : New a = : \n",
                        " [0 0 0 1 0 1]\n",
                        "Epoch: 2 : New a = : \n",
                        " [0 0 0 0 0 0]\n",
                        "Final Epoch : 3 : Final a = :\n",
                        "  [0 0 0 0 0 0]\n",
                        "The maximum value in this array is: \n",
                        " \n",
                        " []\n"
                    ]
                }
            ],
            "metadata": {}
        },
        {
            "cell_type": "code",
            "execution_count": 93,
            "source": [
                "TotalMax=max([Final1,Final2])\r\n",
                "print('Maximum value for Absolute value is : ' ,TotalMax)"
            ],
            "outputs": [
                {
                    "output_type": "stream",
                    "name": "stdout",
                    "text": [
                        "Maximum value for Absolute value is :  [1.5]\n"
                    ]
                },
                {
                    "output_type": "stream",
                    "name": "stderr",
                    "text": [
                        "<ipython-input-93-d7336904bd87>:1: DeprecationWarning: The truth value of an empty array is ambiguous. Returning False, but in future this will result in an error. Use `array.size > 0` to check that an array is not empty.\n",
                        "  TotalMax=max([Final1,Final2])\n"
                    ]
                }
            ],
            "metadata": {}
        },
        {
            "cell_type": "code",
            "execution_count": 74,
            "source": [
                "X=np.asarray([1.2, 1.1 , 0.5 , -1.5 , 1.13 , -0.8])\r\n",
                "X1=-X\r\n",
                "\r\n",
                "Final=0\r\n",
                "# first initialize weight matrix:\r\n",
                "W=np.ones((X1.shape[0],X1.shape[0]))\r\n",
                "W=-W*eps\r\n",
                "np.fill_diagonal(W, 1)\r\n",
                "# Then we need to use a temp variable such as : a in first epoch\r\n",
                "epch=1\r\n",
                "a=np.copy(X1)\r\n",
                "while(1):\r\n",
                "        Vector_activation_func=np.vectorize(activation_func)\r\n",
                "        a=Vector_activation_func(W.dot(a.T))\r\n",
                "        print(W.dot(a.T))\r\n",
                "        a_new=np.around(a, 3)\r\n",
                "        print(a)\r\n",
                "\r\n",
                "        if(1):\r\n",
                "            print('Epoch: '+str(epch)+' : New a = : \\n',a)\r\n",
                "        epch=epch+1\r\n",
                "        if(len(np.unique(a))<len(a)):\r\n",
                "              print('Final Epoch : '+str(epch)+' : Final a = :\\n ',max(X1[a != 0 ]))            \r\n",
                "              Final = max(X1[a != 0 ])\r\n",
                "              break\r\n",
                "        if(np.sum(a==0) >= len(a)-1):\r\n",
                "                print('Final Epoch : '+str(epch)+' : Final a = :\\n ',a)            \r\n",
                "                Final = (X1[a != 0 ])\r\n",
                "                break\r\n",
                "\r\n",
                " \r\n",
                "# print(X1)\r\n",
                "# print(a)\r\n",
                "# print(epoch)\r\n",
                "# print(np.sum(a==0)<len(a)-1)\r\n",
                "# print( activation(w.dot(a.T)))\r\n",
                "# print( Vector_activation_func(w.dot(X1.T)))\r\n"
            ],
            "outputs": [
                {
                    "output_type": "stream",
                    "name": "stdout",
                    "text": [
                        "[-0.26 -0.26 -0.26  0.87 -0.26  0.87]\n",
                        "[0 0 0 1 0 1]\n",
                        "Epoch: 1 : New a = : \n",
                        " [0 0 0 1 0 1]\n",
                        "Final Epoch : 2 : Final a = :\n",
                        "  1.5\n"
                    ]
                }
            ],
            "metadata": {}
        }
    ],
    "metadata": {
        "orig_nbformat": 4,
        "language_info": {
            "name": "python"
        }
    },
    "nbformat": 4,
    "nbformat_minor": 2
}